{
 "cells": [
  {
   "cell_type": "code",
   "execution_count": 1,
   "id": "eb6d4fe6",
   "metadata": {
    "_cell_guid": "b1076dfc-b9ad-4769-8c92-a6c4dae69d19",
    "_uuid": "8f2839f25d086af736a60e9eeb907d3b93b6e0e5",
    "execution": {
     "iopub.execute_input": "2023-02-23T14:16:12.648138Z",
     "iopub.status.busy": "2023-02-23T14:16:12.646910Z",
     "iopub.status.idle": "2023-02-23T14:16:12.663569Z",
     "shell.execute_reply": "2023-02-23T14:16:12.662542Z"
    },
    "papermill": {
     "duration": 0.025715,
     "end_time": "2023-02-23T14:16:12.666206",
     "exception": false,
     "start_time": "2023-02-23T14:16:12.640491",
     "status": "completed"
    },
    "tags": []
   },
   "outputs": [
    {
     "name": "stdout",
     "output_type": "stream",
     "text": [
      "/kaggle/input/digit-recognizer/sample_submission.csv\n",
      "/kaggle/input/digit-recognizer/train.csv\n",
      "/kaggle/input/digit-recognizer/test.csv\n"
     ]
    }
   ],
   "source": [
    "# This Python 3 environment comes with many helpful analytics libraries installed\n",
    "# It is defined by the kaggle/python Docker image: https://github.com/kaggle/docker-python\n",
    "# For example, here's several helpful packages to load\n",
    "\n",
    "import numpy as np # linear algebra\n",
    "import pandas as pd # data processing, CSV file I/O (e.g. pd.read_csv)\n",
    "\n",
    "# Input data files are available in the read-only \"../input/\" directory\n",
    "# For example, running this (by clicking run or pressing Shift+Enter) will list all files under the input directory\n",
    "\n",
    "import os\n",
    "for dirname, _, filenames in os.walk('/kaggle/input'):\n",
    "    for filename in filenames:\n",
    "        print(os.path.join(dirname, filename))\n",
    "\n",
    "# You can write up to 20GB to the current directory (/kaggle/working/) that gets preserved as output when you create a version using \"Save & Run All\" \n",
    "# You can also write temporary files to /kaggle/temp/, but they won't be saved outside of the current session"
   ]
  },
  {
   "cell_type": "code",
   "execution_count": 2,
   "id": "6f21d99d",
   "metadata": {
    "execution": {
     "iopub.execute_input": "2023-02-23T14:16:12.675473Z",
     "iopub.status.busy": "2023-02-23T14:16:12.674599Z",
     "iopub.status.idle": "2023-02-23T14:16:16.029173Z",
     "shell.execute_reply": "2023-02-23T14:16:16.028056Z"
    },
    "papermill": {
     "duration": 3.361677,
     "end_time": "2023-02-23T14:16:16.031983",
     "exception": false,
     "start_time": "2023-02-23T14:16:12.670306",
     "status": "completed"
    },
    "tags": []
   },
   "outputs": [],
   "source": [
    "import pandas as pd\n",
    "import numpy as np\n",
    "\n",
    "train_df = pd.read_csv('/kaggle/input/digit-recognizer/train.csv')\n",
    "X = train_df.iloc[:, 1:]\n",
    "y = train_df.iloc[:, 0]"
   ]
  },
  {
   "cell_type": "code",
   "execution_count": 3,
   "id": "3a6c6ffb",
   "metadata": {
    "execution": {
     "iopub.execute_input": "2023-02-23T14:16:16.042476Z",
     "iopub.status.busy": "2023-02-23T14:16:16.040898Z",
     "iopub.status.idle": "2023-02-23T14:16:16.140936Z",
     "shell.execute_reply": "2023-02-23T14:16:16.139911Z"
    },
    "papermill": {
     "duration": 0.108067,
     "end_time": "2023-02-23T14:16:16.143998",
     "exception": false,
     "start_time": "2023-02-23T14:16:16.035931",
     "status": "completed"
    },
    "tags": []
   },
   "outputs": [],
   "source": [
    "X = np.array(X)\n",
    "y = np.array(y)"
   ]
  },
  {
   "cell_type": "code",
   "execution_count": 4,
   "id": "872bce2e",
   "metadata": {
    "execution": {
     "iopub.execute_input": "2023-02-23T14:16:16.154236Z",
     "iopub.status.busy": "2023-02-23T14:16:16.153198Z",
     "iopub.status.idle": "2023-02-23T14:16:16.228132Z",
     "shell.execute_reply": "2023-02-23T14:16:16.226860Z"
    },
    "papermill": {
     "duration": 0.082994,
     "end_time": "2023-02-23T14:16:16.231087",
     "exception": false,
     "start_time": "2023-02-23T14:16:16.148093",
     "status": "completed"
    },
    "tags": []
   },
   "outputs": [],
   "source": [
    "X = X.astype('float32') / 255"
   ]
  },
  {
   "cell_type": "code",
   "execution_count": 5,
   "id": "d51a5c38",
   "metadata": {
    "execution": {
     "iopub.execute_input": "2023-02-23T14:16:16.241353Z",
     "iopub.status.busy": "2023-02-23T14:16:16.240984Z",
     "iopub.status.idle": "2023-02-23T14:16:30.581071Z",
     "shell.execute_reply": "2023-02-23T14:16:30.579927Z"
    },
    "papermill": {
     "duration": 14.348388,
     "end_time": "2023-02-23T14:16:30.583882",
     "exception": false,
     "start_time": "2023-02-23T14:16:16.235494",
     "status": "completed"
    },
    "tags": []
   },
   "outputs": [],
   "source": [
    "from sklearn.model_selection import train_test_split\n",
    "X_dev, X_val, y_dev, y_val = train_test_split(X, y, test_size=0.03, shuffle=True, random_state=2022)\n",
    "\n",
    "X_dev = X_dev.reshape(X_dev.shape[0], 28, 28, 1)\n",
    "X_val = X_val.reshape(X_val.shape[0], 28, 28, 1)\n",
    "\n",
    "from tensorflow.keras.utils import to_categorical\n",
    "y_dev = pd.get_dummies(y_dev).values\n",
    "y_val = pd.get_dummies(y_val).values"
   ]
  },
  {
   "cell_type": "code",
   "execution_count": 6,
   "id": "dda37195",
   "metadata": {
    "execution": {
     "iopub.execute_input": "2023-02-23T14:16:30.593278Z",
     "iopub.status.busy": "2023-02-23T14:16:30.592697Z",
     "iopub.status.idle": "2023-02-23T14:16:34.985357Z",
     "shell.execute_reply": "2023-02-23T14:16:34.984264Z"
    },
    "papermill": {
     "duration": 4.39989,
     "end_time": "2023-02-23T14:16:34.988062",
     "exception": false,
     "start_time": "2023-02-23T14:16:30.588172",
     "status": "completed"
    },
    "tags": []
   },
   "outputs": [],
   "source": [
    "from tensorflow.keras import  Model, Input\n",
    "from tensorflow.keras.layers  import Conv2D, MaxPooling2D, AveragePooling2D, Dense, Flatten\n",
    "\n",
    "input_tensor = Input(shape=(64,))\n",
    "x = Dense(32, activation='relu')(input_tensor)\n",
    "x = Dense(32, activation='relu')(x)\n",
    "output_tensor = Dense(10, activation='softmax')(x)\n",
    "func_model = Model(input_tensor, output_tensor)"
   ]
  },
  {
   "cell_type": "code",
   "execution_count": 7,
   "id": "1378af17",
   "metadata": {
    "execution": {
     "iopub.execute_input": "2023-02-23T14:16:34.996739Z",
     "iopub.status.busy": "2023-02-23T14:16:34.996391Z",
     "iopub.status.idle": "2023-02-23T14:16:35.003414Z",
     "shell.execute_reply": "2023-02-23T14:16:35.002419Z"
    },
    "papermill": {
     "duration": 0.013608,
     "end_time": "2023-02-23T14:16:35.005502",
     "exception": false,
     "start_time": "2023-02-23T14:16:34.991894",
     "status": "completed"
    },
    "tags": []
   },
   "outputs": [],
   "source": [
    "# function for creating a naive inception block\n",
    "def inception_block(layer_in, f1, f2, f3):\n",
    "    conv1 = Conv2D(f1, (1,1), padding='same', activation='relu')(layer_in)\n",
    "    conv3 = Conv2D(f2, (3,3), padding='same', activation='relu')(layer_in)\n",
    "    conv5 = Conv2D(f3, (5,5), padding='same', activation='relu')(layer_in)\n",
    "    pool = MaxPooling2D((3,3), strides=(1,1), padding='same')(layer_in)\n",
    "    layer_out = concatenate([conv1, conv3, conv5, pool], axis=-1)\n",
    "    return layer_out"
   ]
  },
  {
   "cell_type": "code",
   "execution_count": 8,
   "id": "3775955a",
   "metadata": {
    "execution": {
     "iopub.execute_input": "2023-02-23T14:16:35.013539Z",
     "iopub.status.busy": "2023-02-23T14:16:35.013277Z",
     "iopub.status.idle": "2023-02-23T14:16:35.072447Z",
     "shell.execute_reply": "2023-02-23T14:16:35.071582Z"
    },
    "papermill": {
     "duration": 0.065545,
     "end_time": "2023-02-23T14:16:35.074515",
     "exception": false,
     "start_time": "2023-02-23T14:16:35.008970",
     "status": "completed"
    },
    "tags": []
   },
   "outputs": [],
   "source": [
    "from tensorflow.keras.layers import concatenate\n",
    "\n",
    "inp = Input(shape=(28, 28, 1))\n",
    "x = inception_block(inp, 16, 32, 16)\n",
    "x = Flatten()(x)\n",
    "out = Dense(10, activation='softmax')(x)\n",
    "inception_model = Model(inp, out)"
   ]
  },
  {
   "cell_type": "code",
   "execution_count": 9,
   "id": "66a2eb91",
   "metadata": {
    "execution": {
     "iopub.execute_input": "2023-02-23T14:16:35.083428Z",
     "iopub.status.busy": "2023-02-23T14:16:35.082746Z",
     "iopub.status.idle": "2023-02-23T14:19:13.922855Z",
     "shell.execute_reply": "2023-02-23T14:19:13.921789Z"
    },
    "papermill": {
     "duration": 158.847285,
     "end_time": "2023-02-23T14:19:13.925239",
     "exception": false,
     "start_time": "2023-02-23T14:16:35.077954",
     "status": "completed"
    },
    "tags": []
   },
   "outputs": [
    {
     "name": "stdout",
     "output_type": "stream",
     "text": [
      "Epoch 1/50\n",
      "637/637 [==============================] - 14s 5ms/step - loss: 0.2476 - accuracy: 0.9309\n",
      "Epoch 2/50\n",
      "637/637 [==============================] - 3s 5ms/step - loss: 0.0853 - accuracy: 0.9758\n",
      "Epoch 3/50\n",
      "637/637 [==============================] - 3s 5ms/step - loss: 0.0575 - accuracy: 0.9836\n",
      "Epoch 4/50\n",
      "637/637 [==============================] - 3s 4ms/step - loss: 0.0429 - accuracy: 0.9869\n",
      "Epoch 5/50\n",
      "637/637 [==============================] - 3s 4ms/step - loss: 0.0343 - accuracy: 0.9893\n",
      "Epoch 6/50\n",
      "637/637 [==============================] - 3s 5ms/step - loss: 0.0266 - accuracy: 0.9922\n",
      "Epoch 7/50\n",
      "637/637 [==============================] - 3s 4ms/step - loss: 0.0229 - accuracy: 0.9931\n",
      "Epoch 8/50\n",
      "637/637 [==============================] - 3s 4ms/step - loss: 0.0176 - accuracy: 0.9950\n",
      "Epoch 9/50\n",
      "637/637 [==============================] - 3s 4ms/step - loss: 0.0146 - accuracy: 0.9960\n",
      "Epoch 10/50\n",
      "637/637 [==============================] - 3s 5ms/step - loss: 0.0121 - accuracy: 0.9965\n",
      "Epoch 11/50\n",
      "637/637 [==============================] - 3s 4ms/step - loss: 0.0083 - accuracy: 0.9983\n",
      "Epoch 12/50\n",
      "637/637 [==============================] - 3s 4ms/step - loss: 0.0076 - accuracy: 0.9983\n",
      "Epoch 13/50\n",
      "637/637 [==============================] - 3s 4ms/step - loss: 0.0066 - accuracy: 0.9986\n",
      "Epoch 14/50\n",
      "637/637 [==============================] - 4s 6ms/step - loss: 0.0055 - accuracy: 0.9988\n",
      "Epoch 15/50\n",
      "637/637 [==============================] - 3s 4ms/step - loss: 0.0045 - accuracy: 0.9991\n",
      "Epoch 16/50\n",
      "637/637 [==============================] - 3s 4ms/step - loss: 0.0032 - accuracy: 0.9995\n",
      "Epoch 17/50\n",
      "637/637 [==============================] - 3s 5ms/step - loss: 0.0048 - accuracy: 0.9987\n",
      "Epoch 18/50\n",
      "637/637 [==============================] - 3s 5ms/step - loss: 0.0064 - accuracy: 0.9979\n",
      "Epoch 19/50\n",
      "637/637 [==============================] - 3s 4ms/step - loss: 0.0018 - accuracy: 0.9997\n",
      "Epoch 20/50\n",
      "637/637 [==============================] - 3s 4ms/step - loss: 7.4048e-04 - accuracy: 1.0000\n",
      "Epoch 21/50\n",
      "637/637 [==============================] - 3s 5ms/step - loss: 4.8246e-04 - accuracy: 1.0000\n",
      "Epoch 22/50\n",
      "637/637 [==============================] - 3s 4ms/step - loss: 5.5885e-04 - accuracy: 0.9999\n",
      "Epoch 23/50\n",
      "637/637 [==============================] - 3s 4ms/step - loss: 0.0079 - accuracy: 0.9973\n",
      "Epoch 24/50\n",
      "637/637 [==============================] - 3s 5ms/step - loss: 0.0039 - accuracy: 0.9990\n",
      "Epoch 25/50\n",
      "637/637 [==============================] - 3s 5ms/step - loss: 0.0011 - accuracy: 0.9999\n",
      "Epoch 26/50\n",
      "637/637 [==============================] - 3s 4ms/step - loss: 3.4374e-04 - accuracy: 1.0000\n",
      "Epoch 27/50\n",
      "637/637 [==============================] - 3s 5ms/step - loss: 2.2618e-04 - accuracy: 1.0000\n",
      "Epoch 28/50\n",
      "637/637 [==============================] - 3s 4ms/step - loss: 1.7819e-04 - accuracy: 1.0000\n",
      "Epoch 29/50\n",
      "637/637 [==============================] - 3s 5ms/step - loss: 0.0029 - accuracy: 0.9991\n",
      "Epoch 30/50\n",
      "637/637 [==============================] - 3s 4ms/step - loss: 0.0065 - accuracy: 0.9979\n",
      "Epoch 31/50\n",
      "637/637 [==============================] - 3s 4ms/step - loss: 8.7176e-04 - accuracy: 0.9999\n",
      "Epoch 32/50\n",
      "637/637 [==============================] - 3s 5ms/step - loss: 2.3586e-04 - accuracy: 1.0000\n",
      "Epoch 33/50\n",
      "637/637 [==============================] - 3s 5ms/step - loss: 1.4463e-04 - accuracy: 1.0000\n",
      "Epoch 34/50\n",
      "637/637 [==============================] - 3s 4ms/step - loss: 1.1429e-04 - accuracy: 1.0000\n",
      "Epoch 35/50\n",
      "637/637 [==============================] - 3s 5ms/step - loss: 9.5252e-05 - accuracy: 1.0000\n",
      "Epoch 36/50\n",
      "637/637 [==============================] - 3s 5ms/step - loss: 7.9555e-05 - accuracy: 1.0000\n",
      "Epoch 37/50\n",
      "637/637 [==============================] - 3s 5ms/step - loss: 6.4942e-05 - accuracy: 1.0000\n",
      "Epoch 38/50\n",
      "637/637 [==============================] - 3s 5ms/step - loss: 6.6739e-05 - accuracy: 1.0000\n",
      "Epoch 39/50\n",
      "637/637 [==============================] - 3s 4ms/step - loss: 0.0083 - accuracy: 0.9971\n",
      "Epoch 40/50\n",
      "637/637 [==============================] - 3s 5ms/step - loss: 0.0012 - accuracy: 0.9998\n",
      "Epoch 41/50\n",
      "637/637 [==============================] - 3s 4ms/step - loss: 2.3743e-04 - accuracy: 1.0000\n",
      "Epoch 42/50\n",
      "637/637 [==============================] - 3s 4ms/step - loss: 1.0047e-04 - accuracy: 1.0000\n",
      "Epoch 43/50\n",
      "637/637 [==============================] - 3s 4ms/step - loss: 7.5348e-05 - accuracy: 1.0000\n",
      "Epoch 44/50\n",
      "637/637 [==============================] - 3s 5ms/step - loss: 6.1067e-05 - accuracy: 1.0000\n",
      "Epoch 45/50\n",
      "637/637 [==============================] - 3s 5ms/step - loss: 5.0195e-05 - accuracy: 1.0000\n",
      "Epoch 46/50\n",
      "637/637 [==============================] - 3s 5ms/step - loss: 4.0898e-05 - accuracy: 1.0000\n",
      "Epoch 47/50\n",
      "637/637 [==============================] - 3s 5ms/step - loss: 3.4212e-05 - accuracy: 1.0000\n",
      "Epoch 48/50\n",
      "637/637 [==============================] - 3s 5ms/step - loss: 2.8901e-05 - accuracy: 1.0000\n",
      "Epoch 49/50\n",
      "637/637 [==============================] - 3s 4ms/step - loss: 2.4005e-05 - accuracy: 1.0000\n",
      "Epoch 50/50\n",
      "637/637 [==============================] - 3s 4ms/step - loss: 2.0761e-05 - accuracy: 1.0000\n"
     ]
    },
    {
     "data": {
      "text/plain": [
       "<keras.callbacks.History at 0x7f2c3009d710>"
      ]
     },
     "execution_count": 9,
     "metadata": {},
     "output_type": "execute_result"
    }
   ],
   "source": [
    "from tensorflow.keras.optimizers import Adam\n",
    "inception_model.compile(loss='categorical_crossentropy', metrics=['accuracy'], optimizer=Adam(learning_rate=5e-4))\n",
    "inception_model.fit(X_dev, y_dev, epochs=50, batch_size=64)"
   ]
  },
  {
   "cell_type": "code",
   "execution_count": 10,
   "id": "fd10defc",
   "metadata": {
    "execution": {
     "iopub.execute_input": "2023-02-23T14:19:14.268536Z",
     "iopub.status.busy": "2023-02-23T14:19:14.268176Z",
     "iopub.status.idle": "2023-02-23T14:19:14.684823Z",
     "shell.execute_reply": "2023-02-23T14:19:14.683452Z"
    },
    "papermill": {
     "duration": 0.589507,
     "end_time": "2023-02-23T14:19:14.687481",
     "exception": false,
     "start_time": "2023-02-23T14:19:14.097974",
     "status": "completed"
    },
    "tags": []
   },
   "outputs": [
    {
     "name": "stdout",
     "output_type": "stream",
     "text": [
      "40/40 [==============================] - 0s 4ms/step - loss: 0.1165 - accuracy: 0.9825\n"
     ]
    },
    {
     "data": {
      "text/plain": [
       "{'loss': 0.11645561456680298, 'accuracy': 0.9825396537780762}"
      ]
     },
     "execution_count": 10,
     "metadata": {},
     "output_type": "execute_result"
    }
   ],
   "source": [
    "performance = inception_model.evaluate(X_val, y_val, batch_size=32)\n",
    "dict(zip(inception_model.metrics_names, performance))"
   ]
  },
  {
   "cell_type": "code",
   "execution_count": 11,
   "id": "f470366c",
   "metadata": {
    "execution": {
     "iopub.execute_input": "2023-02-23T14:19:15.083972Z",
     "iopub.status.busy": "2023-02-23T14:19:15.083599Z",
     "iopub.status.idle": "2023-02-23T14:19:20.475301Z",
     "shell.execute_reply": "2023-02-23T14:19:20.474172Z"
    },
    "papermill": {
     "duration": 5.620973,
     "end_time": "2023-02-23T14:19:20.477806",
     "exception": false,
     "start_time": "2023-02-23T14:19:14.856833",
     "status": "completed"
    },
    "tags": []
   },
   "outputs": [
    {
     "name": "stdout",
     "output_type": "stream",
     "text": [
      "875/875 [==============================] - 2s 2ms/step\n"
     ]
    },
    {
     "data": {
      "text/plain": [
       "array([[1.7225357e-28, 0.0000000e+00, 1.0000000e+00, ..., 1.2176154e-25,\n",
       "        3.4647885e-25, 2.8167192e-21],\n",
       "       [1.0000000e+00, 1.6443555e-38, 9.8421382e-18, ..., 1.3002373e-22,\n",
       "        3.5811678e-21, 2.9890883e-27],\n",
       "       [7.3335733e-21, 1.3531811e-18, 1.8109848e-10, ..., 2.7414666e-12,\n",
       "        6.9564270e-09, 1.0000000e+00],\n",
       "       ...,\n",
       "       [0.0000000e+00, 0.0000000e+00, 1.1108740e-25, ..., 6.4760843e-27,\n",
       "        8.2294269e-21, 2.0810696e-18],\n",
       "       [3.5477221e-23, 1.9405484e-28, 3.6646314e-21, ..., 4.0099573e-15,\n",
       "        2.8554730e-09, 9.9999046e-01],\n",
       "       [1.5349727e-30, 0.0000000e+00, 1.0000000e+00, ..., 2.0177271e-25,\n",
       "        1.9514531e-17, 1.2378018e-11]], dtype=float32)"
      ]
     },
     "execution_count": 11,
     "metadata": {},
     "output_type": "execute_result"
    }
   ],
   "source": [
    "X_test = np.array(pd.read_csv('/kaggle/input/digit-recognizer/test.csv'))/255.0\n",
    "X_test = X_test.reshape((X_test.shape[0], 28, 28, 1))\n",
    "\n",
    "y_test = inception_model.predict(X_test)\n",
    "y_test"
   ]
  },
  {
   "cell_type": "code",
   "execution_count": 12,
   "id": "c0684539",
   "metadata": {
    "execution": {
     "iopub.execute_input": "2023-02-23T14:19:20.820905Z",
     "iopub.status.busy": "2023-02-23T14:19:20.820178Z",
     "iopub.status.idle": "2023-02-23T14:19:20.826884Z",
     "shell.execute_reply": "2023-02-23T14:19:20.825935Z"
    },
    "papermill": {
     "duration": 0.182036,
     "end_time": "2023-02-23T14:19:20.829308",
     "exception": false,
     "start_time": "2023-02-23T14:19:20.647272",
     "status": "completed"
    },
    "tags": []
   },
   "outputs": [],
   "source": [
    "y = np.argmax(y_test, axis=1)"
   ]
  },
  {
   "cell_type": "code",
   "execution_count": 13,
   "id": "6fa7c453",
   "metadata": {
    "execution": {
     "iopub.execute_input": "2023-02-23T14:19:21.163330Z",
     "iopub.status.busy": "2023-02-23T14:19:21.162590Z",
     "iopub.status.idle": "2023-02-23T14:19:21.215222Z",
     "shell.execute_reply": "2023-02-23T14:19:21.214210Z"
    },
    "papermill": {
     "duration": 0.220854,
     "end_time": "2023-02-23T14:19:21.217631",
     "exception": false,
     "start_time": "2023-02-23T14:19:20.996777",
     "status": "completed"
    },
    "tags": []
   },
   "outputs": [],
   "source": [
    "test_sub = pd.read_csv(\"/kaggle/input/digit-recognizer/sample_submission.csv\")\n",
    "test_sub[\"Label\"] = y\n",
    "test_sub.to_csv(\"/kaggle/working/submission.csv\", index=False)"
   ]
  }
 ],
 "metadata": {
  "kernelspec": {
   "display_name": "Python 3",
   "language": "python",
   "name": "python3"
  },
  "language_info": {
   "codemirror_mode": {
    "name": "ipython",
    "version": 3
   },
   "file_extension": ".py",
   "mimetype": "text/x-python",
   "name": "python",
   "nbconvert_exporter": "python",
   "pygments_lexer": "ipython3",
   "version": "3.7.12"
  },
  "papermill": {
   "default_parameters": {},
   "duration": 203.184241,
   "end_time": "2023-02-23T14:19:25.186537",
   "environment_variables": {},
   "exception": null,
   "input_path": "__notebook__.ipynb",
   "output_path": "__notebook__.ipynb",
   "parameters": {},
   "start_time": "2023-02-23T14:16:02.002296",
   "version": "2.3.4"
  }
 },
 "nbformat": 4,
 "nbformat_minor": 5
}

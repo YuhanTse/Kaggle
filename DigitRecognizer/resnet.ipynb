{
 "cells": [
  {
   "cell_type": "code",
   "execution_count": 1,
   "id": "6974a786",
   "metadata": {
    "_cell_guid": "b1076dfc-b9ad-4769-8c92-a6c4dae69d19",
    "_uuid": "8f2839f25d086af736a60e9eeb907d3b93b6e0e5",
    "execution": {
     "iopub.execute_input": "2023-02-23T15:04:24.857740Z",
     "iopub.status.busy": "2023-02-23T15:04:24.856949Z",
     "iopub.status.idle": "2023-02-23T15:04:24.870079Z",
     "shell.execute_reply": "2023-02-23T15:04:24.869098Z"
    },
    "papermill": {
     "duration": 0.023481,
     "end_time": "2023-02-23T15:04:24.874716",
     "exception": false,
     "start_time": "2023-02-23T15:04:24.851235",
     "status": "completed"
    },
    "tags": []
   },
   "outputs": [
    {
     "name": "stdout",
     "output_type": "stream",
     "text": [
      "/kaggle/input/digit-recognizer/sample_submission.csv\n",
      "/kaggle/input/digit-recognizer/train.csv\n",
      "/kaggle/input/digit-recognizer/test.csv\n"
     ]
    }
   ],
   "source": [
    "# This Python 3 environment comes with many helpful analytics libraries installed\n",
    "# It is defined by the kaggle/python Docker image: https://github.com/kaggle/docker-python\n",
    "# For example, here's several helpful packages to load\n",
    "\n",
    "import numpy as np # linear algebra\n",
    "import pandas as pd # data processing, CSV file I/O (e.g. pd.read_csv)\n",
    "\n",
    "# Input data files are available in the read-only \"../input/\" directory\n",
    "# For example, running this (by clicking run or pressing Shift+Enter) will list all files under the input directory\n",
    "\n",
    "import os\n",
    "for dirname, _, filenames in os.walk('/kaggle/input'):\n",
    "    for filename in filenames:\n",
    "        print(os.path.join(dirname, filename))\n",
    "\n",
    "# You can write up to 20GB to the current directory (/kaggle/working/) that gets preserved as output when you create a version using \"Save & Run All\" \n",
    "# You can also write temporary files to /kaggle/temp/, but they won't be saved outside of the current session"
   ]
  },
  {
   "cell_type": "code",
   "execution_count": 2,
   "id": "e1c04242",
   "metadata": {
    "execution": {
     "iopub.execute_input": "2023-02-23T15:04:24.883205Z",
     "iopub.status.busy": "2023-02-23T15:04:24.882947Z",
     "iopub.status.idle": "2023-02-23T15:04:28.146399Z",
     "shell.execute_reply": "2023-02-23T15:04:28.145299Z"
    },
    "papermill": {
     "duration": 3.270451,
     "end_time": "2023-02-23T15:04:28.149209",
     "exception": false,
     "start_time": "2023-02-23T15:04:24.878758",
     "status": "completed"
    },
    "tags": []
   },
   "outputs": [],
   "source": [
    "import pandas as pd\n",
    "import numpy as np\n",
    "\n",
    "train_df = pd.read_csv('/kaggle/input/digit-recognizer/train.csv')\n",
    "X = train_df.iloc[:, 1:]\n",
    "y = train_df.iloc[:, 0]"
   ]
  },
  {
   "cell_type": "code",
   "execution_count": 3,
   "id": "1b18110c",
   "metadata": {
    "execution": {
     "iopub.execute_input": "2023-02-23T15:04:28.159319Z",
     "iopub.status.busy": "2023-02-23T15:04:28.157798Z",
     "iopub.status.idle": "2023-02-23T15:04:28.258957Z",
     "shell.execute_reply": "2023-02-23T15:04:28.257867Z"
    },
    "papermill": {
     "duration": 0.108788,
     "end_time": "2023-02-23T15:04:28.261865",
     "exception": false,
     "start_time": "2023-02-23T15:04:28.153077",
     "status": "completed"
    },
    "tags": []
   },
   "outputs": [],
   "source": [
    "X = np.array(X)\n",
    "y = np.array(y)"
   ]
  },
  {
   "cell_type": "code",
   "execution_count": 4,
   "id": "7fd16fe4",
   "metadata": {
    "execution": {
     "iopub.execute_input": "2023-02-23T15:04:28.270970Z",
     "iopub.status.busy": "2023-02-23T15:04:28.270630Z",
     "iopub.status.idle": "2023-02-23T15:04:28.348950Z",
     "shell.execute_reply": "2023-02-23T15:04:28.347842Z"
    },
    "papermill": {
     "duration": 0.08627,
     "end_time": "2023-02-23T15:04:28.352013",
     "exception": false,
     "start_time": "2023-02-23T15:04:28.265743",
     "status": "completed"
    },
    "tags": []
   },
   "outputs": [],
   "source": [
    "X = X.astype('float32') / 255"
   ]
  },
  {
   "cell_type": "code",
   "execution_count": 5,
   "id": "c6ca1569",
   "metadata": {
    "execution": {
     "iopub.execute_input": "2023-02-23T15:04:28.361133Z",
     "iopub.status.busy": "2023-02-23T15:04:28.360759Z",
     "iopub.status.idle": "2023-02-23T15:04:35.588337Z",
     "shell.execute_reply": "2023-02-23T15:04:35.587338Z"
    },
    "papermill": {
     "duration": 7.234791,
     "end_time": "2023-02-23T15:04:35.590728",
     "exception": false,
     "start_time": "2023-02-23T15:04:28.355937",
     "status": "completed"
    },
    "tags": []
   },
   "outputs": [],
   "source": [
    "from sklearn.model_selection import train_test_split\n",
    "X_dev, X_val, y_dev, y_val = train_test_split(X, y, test_size=0.03, shuffle=True, random_state=2022)\n",
    "\n",
    "X_dev = X_dev.reshape(X_dev.shape[0], 28, 28, 1)\n",
    "X_val = X_val.reshape(X_val.shape[0], 28, 28, 1)\n",
    "\n",
    "from tensorflow.keras.utils import to_categorical\n",
    "y_dev = pd.get_dummies(y_dev).values\n",
    "y_val = pd.get_dummies(y_val).values"
   ]
  },
  {
   "cell_type": "code",
   "execution_count": 6,
   "id": "6e001d29",
   "metadata": {
    "execution": {
     "iopub.execute_input": "2023-02-23T15:04:35.598852Z",
     "iopub.status.busy": "2023-02-23T15:04:35.598302Z",
     "iopub.status.idle": "2023-02-23T15:04:35.606953Z",
     "shell.execute_reply": "2023-02-23T15:04:35.606130Z"
    },
    "papermill": {
     "duration": 0.014824,
     "end_time": "2023-02-23T15:04:35.608856",
     "exception": false,
     "start_time": "2023-02-23T15:04:35.594032",
     "status": "completed"
    },
    "tags": []
   },
   "outputs": [],
   "source": [
    "from tensorflow.keras.layers import add, Activation\n",
    "\n",
    "def residual_block(x, n_filters):\n",
    "    residual = x\n",
    "    '''\n",
    "    如果输入层filter的个数不满足在这里定义的输出层的filter个数即n_filters，将出现无法对x和residual直接做add操作\n",
    "    此时我们用1x1卷积核来将输入层的filter的个数转换为n_filters\n",
    "    '''\n",
    "    if residual.shape[-1] != n_filters: #if the number of filters in the input layer does not match the number of filters in the last convolutional layer of the module (defined by n_filters)\n",
    "        residual = Conv2D(n_filters, (1,1), padding='same', activation='relu', kernel_initializer='he_normal')(residual)\n",
    "    x = Conv2D(n_filters, (3,3), padding='same', activation='relu', kernel_initializer='he_normal')(x)\n",
    "    x = Conv2D(n_filters, (3,3), padding='same', activation='linear', kernel_initializer='he_normal')(x)\n",
    "    x = add([x, residual])\n",
    "    x = Activation('relu')(x)\n",
    "    return x"
   ]
  },
  {
   "cell_type": "code",
   "execution_count": 7,
   "id": "a2186a86",
   "metadata": {
    "execution": {
     "iopub.execute_input": "2023-02-23T15:04:35.616058Z",
     "iopub.status.busy": "2023-02-23T15:04:35.615756Z",
     "iopub.status.idle": "2023-02-23T15:04:38.334262Z",
     "shell.execute_reply": "2023-02-23T15:04:38.333088Z"
    },
    "papermill": {
     "duration": 2.726363,
     "end_time": "2023-02-23T15:04:38.338313",
     "exception": false,
     "start_time": "2023-02-23T15:04:35.611950",
     "status": "completed"
    },
    "tags": []
   },
   "outputs": [
    {
     "data": {
      "image/png": "[encoded data removed]",
      "text/plain": [
       "<IPython.core.display.Image object>"
      ]
     },
     "execution_count": 7,
     "metadata": {},
     "output_type": "execute_result"
    }
   ],
   "source": [
    "from tensorflow.keras import  Model, Input\n",
    "from tensorflow.keras.layers  import Conv2D, MaxPooling2D, AveragePooling2D, Dense, Flatten\n",
    "from tensorflow.keras.utils import plot_model \n",
    "\n",
    "inp = Input(shape=(28, 28, 1))\n",
    "x = residual_block(inp, n_filters=32)\n",
    "# x = residual_block(x, n_filters=32)\n",
    "# x = residual_block(x, n_filters=32)\n",
    "x = Flatten()(x)\n",
    "out = Dense(10, activation='softmax')(x)\n",
    "resnet_model = Model(inp, out)\n",
    "plot_model(resnet_model, show_shapes=True)\n"
   ]
  },
  {
   "cell_type": "code",
   "execution_count": 8,
   "id": "d7ca9d26",
   "metadata": {
    "execution": {
     "iopub.execute_input": "2023-02-23T15:04:38.352312Z",
     "iopub.status.busy": "2023-02-23T15:04:38.351951Z",
     "iopub.status.idle": "2023-02-23T15:07:01.207330Z",
     "shell.execute_reply": "2023-02-23T15:07:01.206358Z"
    },
    "papermill": {
     "duration": 142.865084,
     "end_time": "2023-02-23T15:07:01.209925",
     "exception": false,
     "start_time": "2023-02-23T15:04:38.344841",
     "status": "completed"
    },
    "tags": []
   },
   "outputs": [
    {
     "name": "stdout",
     "output_type": "stream",
     "text": [
      "Epoch 1/50\n",
      "637/637 [==============================] - 9s 5ms/step - loss: 0.1706 - accuracy: 0.9493\n",
      "Epoch 2/50\n",
      "637/637 [==============================] - 3s 5ms/step - loss: 0.0537 - accuracy: 0.9841\n",
      "Epoch 3/50\n",
      "637/637 [==============================] - 3s 4ms/step - loss: 0.0364 - accuracy: 0.9891\n",
      "Epoch 4/50\n",
      "637/637 [==============================] - 3s 4ms/step - loss: 0.0267 - accuracy: 0.9914\n",
      "Epoch 5/50\n",
      "637/637 [==============================] - 3s 4ms/step - loss: 0.0171 - accuracy: 0.9951\n",
      "Epoch 6/50\n",
      "637/637 [==============================] - 3s 4ms/step - loss: 0.0112 - accuracy: 0.9967\n",
      "Epoch 7/50\n",
      "637/637 [==============================] - 3s 4ms/step - loss: 0.0090 - accuracy: 0.9972\n",
      "Epoch 8/50\n",
      "637/637 [==============================] - 3s 4ms/step - loss: 0.0068 - accuracy: 0.9982\n",
      "Epoch 9/50\n",
      "637/637 [==============================] - 3s 4ms/step - loss: 0.0086 - accuracy: 0.9970\n",
      "Epoch 10/50\n",
      "637/637 [==============================] - 3s 4ms/step - loss: 0.0051 - accuracy: 0.9986\n",
      "Epoch 11/50\n",
      "637/637 [==============================] - 3s 4ms/step - loss: 0.0027 - accuracy: 0.9993\n",
      "Epoch 12/50\n",
      "637/637 [==============================] - 3s 4ms/step - loss: 0.0036 - accuracy: 0.9990\n",
      "Epoch 13/50\n",
      "637/637 [==============================] - 3s 4ms/step - loss: 0.0022 - accuracy: 0.9994\n",
      "Epoch 14/50\n",
      "637/637 [==============================] - 3s 4ms/step - loss: 0.0046 - accuracy: 0.9987\n",
      "Epoch 15/50\n",
      "637/637 [==============================] - 3s 4ms/step - loss: 0.0047 - accuracy: 0.9982\n",
      "Epoch 16/50\n",
      "637/637 [==============================] - 3s 4ms/step - loss: 0.0027 - accuracy: 0.9990\n",
      "Epoch 17/50\n",
      "637/637 [==============================] - 3s 4ms/step - loss: 4.7591e-04 - accuracy: 0.9999\n",
      "Epoch 18/50\n",
      "637/637 [==============================] - 3s 4ms/step - loss: 1.2147e-04 - accuracy: 1.0000\n",
      "Epoch 19/50\n",
      "637/637 [==============================] - 3s 4ms/step - loss: 5.9323e-05 - accuracy: 1.0000\n",
      "Epoch 20/50\n",
      "637/637 [==============================] - 3s 4ms/step - loss: 2.7680e-05 - accuracy: 1.0000\n",
      "Epoch 21/50\n",
      "637/637 [==============================] - 3s 4ms/step - loss: 1.9457e-05 - accuracy: 1.0000\n",
      "Epoch 22/50\n",
      "637/637 [==============================] - 3s 4ms/step - loss: 1.4724e-05 - accuracy: 1.0000\n",
      "Epoch 23/50\n",
      "637/637 [==============================] - 3s 4ms/step - loss: 1.1361e-05 - accuracy: 1.0000\n",
      "Epoch 24/50\n",
      "637/637 [==============================] - 3s 4ms/step - loss: 8.7855e-06 - accuracy: 1.0000\n",
      "Epoch 25/50\n",
      "637/637 [==============================] - 3s 4ms/step - loss: 6.6760e-06 - accuracy: 1.0000\n",
      "Epoch 26/50\n",
      "637/637 [==============================] - 3s 4ms/step - loss: 5.1260e-06 - accuracy: 1.0000\n",
      "Epoch 27/50\n",
      "637/637 [==============================] - 3s 4ms/step - loss: 4.0845e-06 - accuracy: 1.0000\n",
      "Epoch 28/50\n",
      "637/637 [==============================] - 3s 4ms/step - loss: 3.0332e-06 - accuracy: 1.0000\n",
      "Epoch 29/50\n",
      "637/637 [==============================] - 3s 4ms/step - loss: 2.2840e-06 - accuracy: 1.0000\n",
      "Epoch 30/50\n",
      "637/637 [==============================] - 3s 4ms/step - loss: 1.6811e-06 - accuracy: 1.0000\n",
      "Epoch 31/50\n",
      "637/637 [==============================] - 3s 4ms/step - loss: 1.3291e-06 - accuracy: 1.0000\n",
      "Epoch 32/50\n",
      "637/637 [==============================] - 3s 4ms/step - loss: 9.7252e-07 - accuracy: 1.0000\n",
      "Epoch 33/50\n",
      "637/637 [==============================] - 3s 4ms/step - loss: 7.0335e-07 - accuracy: 1.0000\n",
      "Epoch 34/50\n",
      "637/637 [==============================] - 3s 4ms/step - loss: 5.2750e-07 - accuracy: 1.0000\n",
      "Epoch 35/50\n",
      "637/637 [==============================] - 3s 4ms/step - loss: 3.8350e-07 - accuracy: 1.0000\n",
      "Epoch 36/50\n",
      "637/637 [==============================] - 3s 4ms/step - loss: 2.7721e-07 - accuracy: 1.0000\n",
      "Epoch 37/50\n",
      "637/637 [==============================] - 3s 4ms/step - loss: 0.0095 - accuracy: 0.9975\n",
      "Epoch 38/50\n",
      "637/637 [==============================] - 3s 4ms/step - loss: 0.0087 - accuracy: 0.9973\n",
      "Epoch 39/50\n",
      "637/637 [==============================] - 3s 4ms/step - loss: 0.0011 - accuracy: 0.9997\n",
      "Epoch 40/50\n",
      "637/637 [==============================] - 3s 4ms/step - loss: 8.4544e-05 - accuracy: 1.0000\n",
      "Epoch 41/50\n",
      "637/637 [==============================] - 3s 4ms/step - loss: 2.5091e-05 - accuracy: 1.0000\n",
      "Epoch 42/50\n",
      "637/637 [==============================] - 3s 4ms/step - loss: 1.7445e-05 - accuracy: 1.0000\n",
      "Epoch 43/50\n",
      "637/637 [==============================] - 3s 4ms/step - loss: 1.3152e-05 - accuracy: 1.0000\n",
      "Epoch 44/50\n",
      "637/637 [==============================] - 3s 4ms/step - loss: 1.0043e-05 - accuracy: 1.0000\n",
      "Epoch 45/50\n",
      "637/637 [==============================] - 3s 4ms/step - loss: 7.7230e-06 - accuracy: 1.0000\n",
      "Epoch 46/50\n",
      "637/637 [==============================] - 3s 4ms/step - loss: 5.9727e-06 - accuracy: 1.0000\n",
      "Epoch 47/50\n",
      "637/637 [==============================] - 3s 4ms/step - loss: 4.5585e-06 - accuracy: 1.0000\n",
      "Epoch 48/50\n",
      "637/637 [==============================] - 3s 5ms/step - loss: 3.5029e-06 - accuracy: 1.0000\n",
      "Epoch 49/50\n",
      "637/637 [==============================] - 3s 4ms/step - loss: 2.6644e-06 - accuracy: 1.0000\n",
      "Epoch 50/50\n",
      "637/637 [==============================] - 3s 4ms/step - loss: 2.0322e-06 - accuracy: 1.0000\n"
     ]
    },
    {
     "data": {
      "text/plain": [
       "<keras.callbacks.History at 0x7fd4e417a910>"
      ]
     },
     "execution_count": 8,
     "metadata": {},
     "output_type": "execute_result"
    }
   ],
   "source": [
    "from tensorflow.keras.optimizers import Adam\n",
    "resnet_model.compile(loss='categorical_crossentropy', metrics=['accuracy'], optimizer=Adam(learning_rate=5e-4))\n",
    "resnet_model.fit(X_dev, y_dev, epochs=50, batch_size=64)"
   ]
  },
  {
   "cell_type": "code",
   "execution_count": 9,
   "id": "bbd28794",
   "metadata": {
    "execution": {
     "iopub.execute_input": "2023-02-23T15:07:01.636899Z",
     "iopub.status.busy": "2023-02-23T15:07:01.636518Z",
     "iopub.status.idle": "2023-02-23T15:07:02.143795Z",
     "shell.execute_reply": "2023-02-23T15:07:02.142731Z"
    },
    "papermill": {
     "duration": 0.718382,
     "end_time": "2023-02-23T15:07:02.145897",
     "exception": false,
     "start_time": "2023-02-23T15:07:01.427515",
     "status": "completed"
    },
    "tags": []
   },
   "outputs": [
    {
     "name": "stdout",
     "output_type": "stream",
     "text": [
      "40/40 [==============================] - 0s 3ms/step - loss: 0.1479 - accuracy: 0.9849\n"
     ]
    },
    {
     "data": {
      "text/plain": [
       "{'loss': 0.14793799817562103, 'accuracy': 0.9849206209182739}"
      ]
     },
     "execution_count": 9,
     "metadata": {},
     "output_type": "execute_result"
    }
   ],
   "source": [
    "performance = resnet_model.evaluate(X_val, y_val, batch_size=32)\n",
    "dict(zip(resnet_model.metrics_names, performance))"
   ]
  },
  {
   "cell_type": "code",
   "execution_count": 10,
   "id": "86ed5c2e",
   "metadata": {
    "execution": {
     "iopub.execute_input": "2023-02-23T15:07:02.436100Z",
     "iopub.status.busy": "2023-02-23T15:07:02.435722Z",
     "iopub.status.idle": "2023-02-23T15:07:06.659970Z",
     "shell.execute_reply": "2023-02-23T15:07:06.658865Z"
    },
    "papermill": {
     "duration": 4.373064,
     "end_time": "2023-02-23T15:07:06.662260",
     "exception": false,
     "start_time": "2023-02-23T15:07:02.289196",
     "status": "completed"
    },
    "tags": []
   },
   "outputs": [
    {
     "name": "stdout",
     "output_type": "stream",
     "text": [
      "875/875 [==============================] - 1s 2ms/step\n"
     ]
    }
   ],
   "source": [
    "X_test = np.array(pd.read_csv('/kaggle/input/digit-recognizer/test.csv'))/255.0\n",
    "X_test = X_test.reshape((X_test.shape[0], 28, 28, 1))\n",
    "\n",
    "y_test = resnet_model.predict(X_test)"
   ]
  },
  {
   "cell_type": "code",
   "execution_count": 11,
   "id": "0f5b3c53",
   "metadata": {
    "execution": {
     "iopub.execute_input": "2023-02-23T15:07:07.005597Z",
     "iopub.status.busy": "2023-02-23T15:07:07.004875Z",
     "iopub.status.idle": "2023-02-23T15:07:07.010562Z",
     "shell.execute_reply": "2023-02-23T15:07:07.009601Z"
    },
    "papermill": {
     "duration": 0.205344,
     "end_time": "2023-02-23T15:07:07.012739",
     "exception": false,
     "start_time": "2023-02-23T15:07:06.807395",
     "status": "completed"
    },
    "tags": []
   },
   "outputs": [],
   "source": [
    "y = np.argmax(y_test, axis=1)"
   ]
  },
  {
   "cell_type": "code",
   "execution_count": 12,
   "id": "29981d90",
   "metadata": {
    "execution": {
     "iopub.execute_input": "2023-02-23T15:07:07.299546Z",
     "iopub.status.busy": "2023-02-23T15:07:07.299172Z",
     "iopub.status.idle": "2023-02-23T15:07:07.340515Z",
     "shell.execute_reply": "2023-02-23T15:07:07.339556Z"
    },
    "papermill": {
     "duration": 0.187187,
     "end_time": "2023-02-23T15:07:07.342709",
     "exception": false,
     "start_time": "2023-02-23T15:07:07.155522",
     "status": "completed"
    },
    "tags": []
   },
   "outputs": [],
   "source": [
    "test_sub = pd.read_csv(\"/kaggle/input/digit-recognizer/sample_submission.csv\")\n",
    "test_sub[\"Label\"] = y\n",
    "test_sub.to_csv(\"/kaggle/working/submission.csv\", index=False)"
   ]
  }
 ],
 "metadata": {
  "kernelspec": {
   "display_name": "Python 3",
   "language": "python",
   "name": "python3"
  },
  "language_info": {
   "codemirror_mode": {
    "name": "ipython",
    "version": 3
   },
   "file_extension": ".py",
   "mimetype": "text/x-python",
   "name": "python",
   "nbconvert_exporter": "python",
   "pygments_lexer": "ipython3",
   "version": "3.7.12"
  },
  "papermill": {
   "default_parameters": {},
   "duration": 173.339664,
   "end_time": "2023-02-23T15:07:10.603712",
   "environment_variables": {},
   "exception": null,
   "input_path": "__notebook__.ipynb",
   "output_path": "__notebook__.ipynb",
   "parameters": {},
   "start_time": "2023-02-23T15:04:17.264048",
   "version": "2.3.4"
  }
 },
 "nbformat": 4,
 "nbformat_minor": 5
}
